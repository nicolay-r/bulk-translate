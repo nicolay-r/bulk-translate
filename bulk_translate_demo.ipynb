{
  "nbformat": 4,
  "nbformat_minor": 0,
  "metadata": {
    "colab": {
      "provenance": [],
      "include_colab_link": true
    },
    "kernelspec": {
      "name": "python3",
      "display_name": "Python 3"
    },
    "language_info": {
      "name": "python"
    }
  },
  "cells": [
    {
      "cell_type": "markdown",
      "metadata": {
        "id": "view-in-github",
        "colab_type": "text"
      },
      "source": [
        "<a href=\"https://colab.research.google.com/github/nicolay-r/bulk-translate/blob/master/bulk_translate_demo.ipynb\" target=\"_parent\"><img src=\"https://colab.research.google.com/assets/colab-badge.svg\" alt=\"Open In Colab\"/></a>"
      ]
    },
    {
      "cell_type": "markdown",
      "source": [
        "# bulk-translate 0.25.0\n",
        "![](https://img.shields.io/badge/Python-3.9-brightgreen.svg)\n",
        "[![PyPI downloads](https://img.shields.io/pypi/dm/bulk-translate.svg)](https://pypistats.org/packages/bulk-translate)\n",
        "\n",
        "\n",
        "https://github.com/nicolay-r/bulk-translate"
      ],
      "metadata": {
        "id": "KO7HK1VAq4ru"
      }
    },
    {
      "cell_type": "code",
      "execution_count": null,
      "metadata": {
        "collapsed": true,
        "id": "fHrpYkq9q2vA"
      },
      "outputs": [],
      "source": [
        "!pip install bulk-translate"
      ]
    },
    {
      "cell_type": "markdown",
      "source": [
        "Download test `.jsonl` file"
      ],
      "metadata": {
        "id": "U_WsLTCRroyh"
      }
    },
    {
      "cell_type": "code",
      "source": [
        "!wget https://raw.githubusercontent.com/nicolay-r/bulk-translate/refs/heads/master/test/data/test.jsonl test.jsonl"
      ],
      "metadata": {
        "id": "FJZy93wYrkov",
        "outputId": "ff7c8239-654d-4780-f67b-5d619415781f",
        "colab": {
          "base_uri": "https://localhost:8080/"
        }
      },
      "execution_count": 12,
      "outputs": [
        {
          "output_type": "stream",
          "name": "stdout",
          "text": [
            "--2024-12-22 15:58:16--  https://raw.githubusercontent.com/nicolay-r/bulk-translate/refs/heads/master/test/data/test.jsonl\n",
            "Resolving raw.githubusercontent.com (raw.githubusercontent.com)... 185.199.108.133, 185.199.109.133, 185.199.110.133, ...\n",
            "Connecting to raw.githubusercontent.com (raw.githubusercontent.com)|185.199.108.133|:443... connected.\n",
            "HTTP request sent, awaiting response... 200 OK\n",
            "Length: 582 [text/plain]\n",
            "Saving to: ‘test.jsonl’\n",
            "\n",
            "test.jsonl          100%[===================>]     582  --.-KB/s    in 0s      \n",
            "\n",
            "2024-12-22 15:58:17 (32.7 MB/s) - ‘test.jsonl’ saved [582/582]\n",
            "\n",
            "--2024-12-22 15:58:17--  http://test.jsonl/\n",
            "Resolving test.jsonl (test.jsonl)... failed: Name or service not known.\n",
            "wget: unable to resolve host address ‘test.jsonl’\n",
            "FINISHED --2024-12-22 15:58:17--\n",
            "Total wall clock time: 0.3s\n",
            "Downloaded: 1 files, 582 in 0s (32.7 MB/s)\n"
          ]
        }
      ]
    },
    {
      "cell_type": "code",
      "source": [
        "!wget https://raw.githubusercontent.com/nicolay-r/bulk-translate/refs/heads/master/models/googletrans_310a.py googletrans_310a.py"
      ],
      "metadata": {
        "id": "TmfNUjTbr2ZI"
      },
      "execution_count": null,
      "outputs": []
    },
    {
      "cell_type": "markdown",
      "source": [
        "Launch the app"
      ],
      "metadata": {
        "id": "2oIm42gFtAir"
      }
    },
    {
      "cell_type": "markdown",
      "source": [
        "# Usage"
      ],
      "metadata": {
        "id": "d90AuqICFemn"
      }
    },
    {
      "cell_type": "code",
      "source": [
        "!pip install source_iter"
      ],
      "metadata": {
        "id": "uu5VLQDnFCiL"
      },
      "execution_count": null,
      "outputs": []
    },
    {
      "cell_type": "code",
      "source": [
        "!pip install googletrans==3.1.0a"
      ],
      "metadata": {
        "id": "c-01wCYxFJuu"
      },
      "execution_count": null,
      "outputs": []
    },
    {
      "cell_type": "code",
      "source": [
        "!python -m bulk_translate.translate \\\n",
        "    --src \"test.jsonl\" \\\n",
        "    --prompt \"{text}\" \\\n",
        "    --adapter \"dynamic:googletrans_310a.py:GoogleTranslateModel\" \\\n",
        "    --output \"test-translated.jsonl\" \\\n",
        "    %%m \\\n",
        "    --src \"auto\" \\\n",
        "    --dest \"ru\""
      ],
      "metadata": {
        "id": "AVx81jqirL0d"
      },
      "execution_count": null,
      "outputs": []
    }
  ]
}