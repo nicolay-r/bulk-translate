{
  "nbformat": 4,
  "nbformat_minor": 0,
  "metadata": {
    "colab": {
      "provenance": [],
      "authorship_tag": "ABX9TyP0Wax0XO4MqDGUTX4WEub+",
      "include_colab_link": true
    },
    "kernelspec": {
      "name": "python3",
      "display_name": "Python 3"
    },
    "language_info": {
      "name": "python"
    }
  },
  "cells": [
    {
      "cell_type": "markdown",
      "metadata": {
        "id": "view-in-github",
        "colab_type": "text"
      },
      "source": [
        "<a href=\"https://colab.research.google.com/github/nicolay-r/bulk-translate/blob/master/bulk_translate_demo.ipynb\" target=\"_parent\"><img src=\"https://colab.research.google.com/assets/colab-badge.svg\" alt=\"Open In Colab\"/></a>"
      ]
    },
    {
      "cell_type": "markdown",
      "source": [
        "\n",
        "# bulk-translate\n",
        "\n",
        "This is a demo for the project:\n",
        "\n",
        "https://github.com/nicolay-r/bulk-translate"
      ],
      "metadata": {
        "id": "KO7HK1VAq4ru"
      }
    },
    {
      "cell_type": "code",
      "execution_count": null,
      "metadata": {
        "collapsed": true,
        "id": "fHrpYkq9q2vA"
      },
      "outputs": [],
      "source": [
        "!pip install git+https://github.com/nicolay-r/bulk-translate"
      ]
    },
    {
      "cell_type": "markdown",
      "source": [
        "Download test csv file"
      ],
      "metadata": {
        "id": "U_WsLTCRroyh"
      }
    },
    {
      "cell_type": "code",
      "source": [
        "!wget https://raw.githubusercontent.com/nicolay-r/bulk-translate/refs/heads/master/test/data/test.tsv test.csv"
      ],
      "metadata": {
        "id": "FJZy93wYrkov"
      },
      "execution_count": null,
      "outputs": []
    },
    {
      "cell_type": "code",
      "source": [
        "!wget https://raw.githubusercontent.com/nicolay-r/bulk-translate/refs/heads/master/models/googletrans_310a.py googletrans_310a.py"
      ],
      "metadata": {
        "id": "TmfNUjTbr2ZI"
      },
      "execution_count": null,
      "outputs": []
    },
    {
      "cell_type": "markdown",
      "source": [
        "Launch the app"
      ],
      "metadata": {
        "id": "2oIm42gFtAir"
      }
    },
    {
      "cell_type": "code",
      "source": [
        "!python -m bulk_translate.translate \\\n",
        "    --src \"test.tsv\" \\\n",
        "    --prompt \"{text}\" \\\n",
        "    --adapter \"dynamic:googletrans_310a.py:GoogleTranslateModel\" \\\n",
        "    --output \"test-translated.jsonl\" \\\n",
        "    --parse-entities \\\n",
        "    %%m \\\n",
        "    --src \"auto\" \\\n",
        "    --dest \"ru\""
      ],
      "metadata": {
        "id": "AVx81jqirL0d"
      },
      "execution_count": null,
      "outputs": []
    }
  ]
}